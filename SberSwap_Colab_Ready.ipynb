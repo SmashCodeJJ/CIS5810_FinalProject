{
  "cells": [
    {
      "cell_type": "markdown",
      "metadata": {},
      "source": [
        "# 🎭 Sber-Swap Face Swapping for Google Colab\n",
        "\n",
        "**Modernized fork** compatible with Python 3.12, PyTorch 2.x, and Google Colab.\n",
        "\n",
        "📦 **Repository**: [SmashCodeJJ/sber-swap-colab](https://github.com/SmashCodeJJ/sber-swap-colab)  \n",
        "🔧 **What's Updated**: MXNet → ONNX Runtime, InsightFace 0.7+, NumPy 2.0 compatible, fixed all transformation matrix issues\n",
        "\n",
        "---\n",
        "\n",
        "## ⚠️ IMPORTANT: Two-Step Process\n",
        "\n",
        "1. ✅ **Run Installation Cell** → Installs all dependencies\n",
        "2. 🔄 **Restart Runtime** → Click \"Runtime → Restart runtime\" \n",
        "3. ▶️ **Run Face Swap Cells** → Process your images\n",
        "\n",
        "**Do NOT skip the runtime restart!**\n"
      ]
    },
    {
      "cell_type": "markdown",
      "metadata": {},
      "source": [
        "## Step 1: Installation (Run once, then restart runtime)\n",
        "\n",
        "After this cell completes, go to: **Runtime → Restart runtime**\n"
      ]
    },
    {
      "cell_type": "code",
      "execution_count": null,
      "metadata": {},
      "outputs": [],
      "source": [
        "# Clone repository (updated fork for Colab)\n",
        "!git clone https://github.com/SmashCodeJJ/sber-swap-colab.git\n",
        "%cd sber-swap-colab\n",
        "\n",
        "# Initialize submodules\n",
        "!git submodule init\n",
        "!git submodule update\n",
        "\n",
        "# Install dependencies\n",
        "%pip install -q -r requirements.txt\n",
        "\n",
        "# Download pre-trained models\n",
        "!bash download_models.sh\n",
        "\n",
        "print(\"\\n\" + \"=\"*50)\n",
        "print(\"✅ Installation complete!\")\n",
        "print(\"=\"*50)\n",
        "print(\"⚠️  IMPORTANT: Go to Runtime → Restart runtime\")\n",
        "print(\"    Then skip this cell and run the cells below.\")\n",
        "print(\"=\"*50)\n"
      ]
    },
    {
      "cell_type": "markdown",
      "metadata": {},
      "source": [
        "## Step 2: Verify Installation (Run after restart)\n"
      ]
    },
    {
      "cell_type": "code",
      "execution_count": null,
      "metadata": {},
      "outputs": [],
      "source": [
        "# Change to project directory\n",
        "%cd /content/sber-swap-colab\n",
        "\n",
        "# Verify imports\n",
        "import torch\n",
        "import numpy as np\n",
        "import cv2\n",
        "import onnxruntime as ort\n",
        "import insightface\n",
        "\n",
        "print(\"=\"*50)\n",
        "print(\"✅ Environment Verified\")\n",
        "print(\"=\"*50)\n",
        "print(f\"PyTorch version: {torch.__version__}\")\n",
        "print(f\"NumPy version: {np.__version__}\")\n",
        "print(f\"CUDA available: {torch.cuda.is_available()}\")\n",
        "print(f\"ONNX Runtime version: {ort.__version__}\")\n",
        "print(f\"InsightFace version: {insightface.__version__}\")\n",
        "\n",
        "if torch.cuda.is_available():\n",
        "    print(f\"GPU: {torch.cuda.get_device_name(0)}\")\n",
        "    print(\"🚀 GPU acceleration enabled!\")\n",
        "else:\n",
        "    print(\"⚠️  Running on CPU (slower)\")\n",
        "print(\"=\"*50)\n"
      ]
    },
    {
      "cell_type": "markdown",
      "metadata": {},
      "source": [
        "## Step 3: Basic Face Swap (Image to Image)\n"
      ]
    },
    {
      "cell_type": "code",
      "execution_count": null,
      "metadata": {},
      "outputs": [],
      "source": [
        "# Run inference on example images\n",
        "!python inference.py \\\n",
        "  --image_to_image True \\\n",
        "  --target_image examples/images/beckham.jpg \\\n",
        "  --source_paths examples/images/mark.jpg \\\n",
        "  --out_image_name examples/results/result.png\n",
        "\n",
        "# Display result\n",
        "from IPython.display import Image, display\n",
        "import os\n",
        "\n",
        "if os.path.exists('examples/results/result.png'):\n",
        "    print(\"\\nResult:\")\n",
        "    display(Image('examples/results/result.png'))\n",
        "else:\n",
        "    print(\"Result image not found. Check for errors above.\")\n"
      ]
    },
    {
      "cell_type": "markdown",
      "metadata": {},
      "source": [
        "## Step 4: Use Your Own Images (Optional)\n",
        "\n",
        "Upload your own target and source images, then run the face swap.\n"
      ]
    },
    {
      "cell_type": "code",
      "execution_count": null,
      "metadata": {},
      "outputs": [],
      "source": [
        "from google.colab import files\n",
        "\n",
        "# Create directory for uploads\n",
        "!mkdir -p /content/my_images\n",
        "\n",
        "# Upload target image\n",
        "print(\"Upload TARGET image (face to replace):\")\n",
        "uploaded = files.upload()\n",
        "for filename in uploaded.keys():\n",
        "    !mv \"{filename}\" /content/my_images/target.jpg\n",
        "    break\n",
        "\n",
        "# Upload source image\n",
        "print(\"\\nUpload SOURCE image (face to use):\")\n",
        "uploaded = files.upload()\n",
        "for filename in uploaded.keys():\n",
        "    !mv \"{filename}\" /content/my_images/source.jpg\n",
        "    break\n",
        "\n",
        "# Run face swap\n",
        "!python inference.py \\\n",
        "  --image_to_image True \\\n",
        "  --target_image /content/my_images/target.jpg \\\n",
        "  --source_paths /content/my_images/source.jpg \\\n",
        "  --out_image_name /content/my_images/result.png\n",
        "\n",
        "# Display and download result\n",
        "if os.path.exists('/content/my_images/result.png'):\n",
        "    print(\"\\nResult:\")\n",
        "    display(Image('/content/my_images/result.png'))\n",
        "    files.download('/content/my_images/result.png')\n",
        "else:\n",
        "    print(\"Result not found. Check for errors.\")\n"
      ]
    }
  ],
  "metadata": {
    "language_info": {
      "name": "python"
    }
  },
  "nbformat": 4,
  "nbformat_minor": 2
}
